{
 "cells": [
  {
   "cell_type": "code",
   "execution_count": 17,
   "id": "8698360d",
   "metadata": {},
   "outputs": [],
   "source": [
    "class phone:\n",
    "    def make_call(self):\n",
    "        print(\"making phone call\")\n",
    "    def play_game(self):\n",
    "        print(\"iam playing game\")"
   ]
  },
  {
   "cell_type": "code",
   "execution_count": 18,
   "id": "76d9b579",
   "metadata": {},
   "outputs": [
    {
     "name": "stdout",
     "output_type": "stream",
     "text": [
      "making phone call\n"
     ]
    }
   ],
   "source": [
    "p1=phone()\n",
    "p1.make_call()"
   ]
  },
  {
   "cell_type": "code",
   "execution_count": 19,
   "id": "c013403f",
   "metadata": {},
   "outputs": [
    {
     "name": "stdout",
     "output_type": "stream",
     "text": [
      "iam playing game\n"
     ]
    }
   ],
   "source": [
    "p1.play_game()"
   ]
  },
  {
   "cell_type": "code",
   "execution_count": 53,
   "id": "5a7bb942",
   "metadata": {},
   "outputs": [],
   "source": [
    "#setting and returing the attributes values\n",
    "class phone:\n",
    "    def assign_colour(self,colour):\n",
    "        self.colour=colour\n",
    "    def assign_cost(self,cost):\n",
    "        self.cost=cost\n",
    "    def show_colour(self):\n",
    "        return self.colour\n",
    "    def show_cost(self):\n",
    "        return self.cost\n",
    "    def make_call(self):\n",
    "        print(\"making phone call\")\n",
    "    def play_games(self):\n",
    "        print(\"im playing games\")\n",
    "    def set_module(self,module):\n",
    "        self.module=module\n",
    "    def show_module(self):\n",
    "        return self.module\n",
    "    def set_password(self,password):\n",
    "        self.password=password\n",
    "    def show_password(self):\n",
    "        return self.password\n",
    "    def set_mail(self,mail):\n",
    "        self.mail=mail \n",
    "    def show_mail(self):\n",
    "        return self.mail \n",
    "        "
   ]
  },
  {
   "cell_type": "code",
   "execution_count": 54,
   "id": "bf4dad60",
   "metadata": {},
   "outputs": [],
   "source": [
    "p2=phone()"
   ]
  },
  {
   "cell_type": "code",
   "execution_count": 60,
   "id": "2beca288",
   "metadata": {},
   "outputs": [
    {
     "data": {
      "text/plain": [
       "'blue'"
      ]
     },
     "execution_count": 60,
     "metadata": {},
     "output_type": "execute_result"
    }
   ],
   "source": [
    "p2.assign_colour(\"blue\")\n",
    "p2.assign_cost(\"$600\")\n",
    "p2.set_module(\"apple gen7\")\n",
    "p2.set_password(\"pavithra16!\")\n",
    "p2.set_mail(\"pavithraasokan43@gmail.com\")\n",
    "p2.show_colour()"
   ]
  },
  {
   "cell_type": "code",
   "execution_count": 61,
   "id": "4658bb60",
   "metadata": {},
   "outputs": [
    {
     "data": {
      "text/plain": [
       "'$600'"
      ]
     },
     "execution_count": 61,
     "metadata": {},
     "output_type": "execute_result"
    }
   ],
   "source": [
    "p2.show_cost()"
   ]
  },
  {
   "cell_type": "code",
   "execution_count": 62,
   "id": "02ca851e",
   "metadata": {},
   "outputs": [
    {
     "data": {
      "text/plain": [
       "'apple gen7'"
      ]
     },
     "execution_count": 62,
     "metadata": {},
     "output_type": "execute_result"
    }
   ],
   "source": [
    "p2.show_module()"
   ]
  },
  {
   "cell_type": "code",
   "execution_count": 63,
   "id": "9590e251",
   "metadata": {},
   "outputs": [
    {
     "data": {
      "text/plain": [
       "'pavithra16!'"
      ]
     },
     "execution_count": 63,
     "metadata": {},
     "output_type": "execute_result"
    }
   ],
   "source": [
    "p2.show_password()"
   ]
  },
  {
   "cell_type": "code",
   "execution_count": 64,
   "id": "f6adc8da",
   "metadata": {},
   "outputs": [
    {
     "data": {
      "text/plain": [
       "'pavithraasokan43@gmail.com'"
      ]
     },
     "execution_count": 64,
     "metadata": {},
     "output_type": "execute_result"
    }
   ],
   "source": [
    "p2.show_mail()"
   ]
  }
 ],
 "metadata": {
  "kernelspec": {
   "display_name": "Python 3",
   "language": "python",
   "name": "python3"
  },
  "language_info": {
   "codemirror_mode": {
    "name": "ipython",
    "version": 3
   },
   "file_extension": ".py",
   "mimetype": "text/x-python",
   "name": "python",
   "nbconvert_exporter": "python",
   "pygments_lexer": "ipython3",
   "version": "3.8.8"
  }
 },
 "nbformat": 4,
 "nbformat_minor": 5
}
